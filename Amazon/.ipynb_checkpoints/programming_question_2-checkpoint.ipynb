{
 "cells": [
  {
   "cell_type": "markdown",
   "id": "c3a13bcc",
   "metadata": {},
   "source": [
    "# Question\n",
    "\n",
    "#### Write a function that returns the middle element of the list if the number of elements in the list are odd, else it returns the average of the middle two elements of the list?"
   ]
  },
  {
   "cell_type": "code",
   "execution_count": 9,
   "id": "ab6f1d87",
   "metadata": {},
   "outputs": [
    {
     "name": "stdout",
     "output_type": "stream",
     "text": [
      "5\n"
     ]
    }
   ],
   "source": [
    "def middle(l):\n",
    "    if len(l)%2 != 0:\n",
    "        n = len(l)//2\n",
    "        return l[n]   \n",
    "    else:\n",
    "        n0 = len(l)//2\n",
    "        n1 = len(l)//2 - 1\n",
    "        return (n0+n1)/2\n",
    "    \n",
    "print(middle(l=[1,3,5,7,9]))"
   ]
  },
  {
   "cell_type": "code",
   "execution_count": null,
   "id": "6c509bbf",
   "metadata": {},
   "outputs": [],
   "source": []
  }
 ],
 "metadata": {
  "kernelspec": {
   "display_name": "Python 3 (ipykernel)",
   "language": "python",
   "name": "python3"
  },
  "language_info": {
   "codemirror_mode": {
    "name": "ipython",
    "version": 3
   },
   "file_extension": ".py",
   "mimetype": "text/x-python",
   "name": "python",
   "nbconvert_exporter": "python",
   "pygments_lexer": "ipython3",
   "version": "3.11.0"
  }
 },
 "nbformat": 4,
 "nbformat_minor": 5
}
