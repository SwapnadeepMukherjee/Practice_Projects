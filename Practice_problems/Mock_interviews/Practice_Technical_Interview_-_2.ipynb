{
 "cells": [
  {
   "cell_type": "markdown",
   "id": "6777dd10",
   "metadata": {},
   "source": [
    "## Pracitce Questions"
   ]
  },
  {
   "cell_type": "markdown",
   "id": "d9c57807",
   "metadata": {},
   "source": [
    "#### 1. WAP to Convert A String to Lower-Case In Python?"
   ]
  },
  {
   "cell_type": "code",
   "execution_count": 7,
   "id": "8d15c058",
   "metadata": {},
   "outputs": [
    {
     "name": "stdout",
     "output_type": "stream",
     "text": [
      "geeksforgeeks\n",
      "geeksforgeeks\n"
     ]
    }
   ],
   "source": [
    "# Solution - \n",
    "\n",
    "# Checking for lowercase characters \n",
    "string = 'GEEKSFORGEEKS' #Define a string that contains only uppercase. \n",
    "print(string.lower()) #convert into lower case \n",
    "\n",
    "string = 'GeeksforGeeks' #Define a string that contains noth uppercase and lowercase. \n",
    "print(string.lower()) #convert into lower case. \n",
    "\n",
    "\n",
    "#reference - https://www.geeksforgeeks.org/isupper-islower-lower-upper-python-applications/"
   ]
  },
  {
   "cell_type": "markdown",
   "id": "4760eb6f",
   "metadata": {},
   "source": [
    "#### 2. WAP to Remove Duplicate Elements From A List?"
   ]
  },
  {
   "cell_type": "code",
   "execution_count": 8,
   "id": "4035567b",
   "metadata": {},
   "outputs": [
    {
     "name": "stdout",
     "output_type": "stream",
     "text": [
      "[2, 4, 5, 10, 20]\n"
     ]
    }
   ],
   "source": [
    "# Solution - \n",
    "\n",
    "# sample - Input : [2, 4, 10, 20, 5, 2, 20, 4]\n",
    "# Output : [2, 4, 10, 20, 5]\n",
    "\n",
    "\n",
    "input_data = [2, 4, 10, 20, 5, 2, 20, 4]\n",
    "set_input_data = set(input_data)\n",
    "# print(set_input_data)\n",
    "input_data = list(set_input_data)\n",
    "print(sorted(input_data))\n",
    "\n",
    "# For more reference - https://www.geeksforgeeks.org/python-remove-duplicates-list/"
   ]
  },
  {
   "cell_type": "markdown",
   "id": "16c1e109",
   "metadata": {},
   "source": [
    "#### 3. How to Remove Spaces From A String?"
   ]
  },
  {
   "cell_type": "code",
   "execution_count": 9,
   "id": "cbf4678f",
   "metadata": {},
   "outputs": [
    {
     "name": "stdout",
     "output_type": "stream",
     "text": [
      "geek\n"
     ]
    }
   ],
   "source": [
    "# Solution -\n",
    "\n",
    "# Python3 code to remove whitespace -\n",
    "def remove(string):\n",
    "    return string.replace(\" \", \"\")\n",
    "\n",
    "# Driver Program\n",
    "string = ' g e e k '\n",
    "print(remove(string))\n",
    "\n",
    "# input_string = ' g e e k '\n",
    "# print(input_string.split(\" \"))\n",
    "\n",
    "\n",
    "# Refernce - https://www.geeksforgeeks.org/python-remove-spaces-from-a-string/"
   ]
  },
  {
   "cell_type": "markdown",
   "id": "a0d7a305",
   "metadata": {},
   "source": [
    "#### 4. What Is Pickling And Unpickling?"
   ]
  },
  {
   "cell_type": "markdown",
   "id": "76efb5cc",
   "metadata": {},
   "source": [
    "Pythons pickling and un-pickling capabilities are essential for serializing and deserializing Python objects. Pickling converts a Python object hierarchy into a byte stream, preserving its state and structure for object persistence and inter-process communication. Un-pickling converts the serialized byte stream back into a Python object hierarchy, restoring the original object. Most Python objects can be pickled, including these data-types - [int, float, complex numbers, strings, bytes, byte arrays, Boolean Values, lists, set, tuples and dictionaries]. Functions and classes can also be pickled, but restrictions exist, such as pickling file objects, network sockets, database connections, and certain system resources.The pickle module provides functions like dump() and load(), which can be used to serialize and deserialize objects. Examples include pickling a dictionary and un-pickling a list. The pickle module also provides functions like fix_imports, encoding, errors, and buffers to handle decoding errors. Understanding these functions is crucial for efficient Python programming.\n",
    "\n",
    "#### for more details https://python.plainenglish.io/pickling-and-un-pickling-in-python-a-comprehensive-tutorial-2047ad7273a0"
   ]
  },
  {
   "cell_type": "code",
   "execution_count": 10,
   "id": "e24f87b3",
   "metadata": {},
   "outputs": [
    {
     "name": "stdout",
     "output_type": "stream",
     "text": [
      "Pickling None\n",
      "Unpickling {'name': 'John', 'age': 30, 'city': 'New York'}\n"
     ]
    }
   ],
   "source": [
    "import pickle\n",
    "\n",
    "# Pickling\n",
    "data = {'name': 'John', 'age': 30, 'city': 'New York'}\n",
    "\n",
    "with open('data.pkl', 'wb') as file:\n",
    "     unloaded_data = pickle.dump(data, file)\n",
    "     \n",
    "print('Pickling', unloaded_data)\n",
    "        \n",
    "# Unpickling\n",
    "with open('data.pkl', 'rb') as file:\n",
    "     loaded_data = pickle.load(file)\n",
    "\n",
    "print('Unpickling', loaded_data)"
   ]
  },
  {
   "cell_type": "markdown",
   "id": "4108b62a",
   "metadata": {},
   "source": [
    "#### 6. How to Automate Data Extraction From A PDF File And Save It to A CSV Etc.?"
   ]
  },
  {
   "cell_type": "code",
   "execution_count": 11,
   "id": "6d8c431d",
   "metadata": {},
   "outputs": [],
   "source": [
    "# import pdfminer\n",
    "\n",
    "# with open('IdeaPad_3_15ALC6_Spec.pdf', 'rb') as f:\n",
    "#     pdf = pdfminer.pdfparser.PDFParser(f)\n",
    "#     pdf.parse()\n",
    "#     text = pdf.extract_text()\n",
    "\n",
    "# lines = text.split('\\n')\n",
    "\n",
    "# for line in lines:\n",
    "    \n",
    "#     # Do something with the data.\n",
    "#     if 'Name' in line:\n",
    "#         name = line.split(':')[1]\n",
    "#     if 'Age' in line:\n",
    "#         age = line.split(':')[1]\n",
    "\n",
    "# print(name, age)\n",
    "\n",
    "# with open('data.csv', 'w', newline='') as f:\n",
    "#     writer = csv.writer(f)\n",
    "#     writer.writerow([name, age])\n",
    "\n",
    "\n",
    "# For more reference, please check this URL - https://www.freecodecamp.org/news/extract-data-from-pdf-files-with-python/"
   ]
  },
  {
   "cell_type": "code",
   "execution_count": 12,
   "id": "288626e1",
   "metadata": {},
   "outputs": [],
   "source": [
    "#pip install pdfminer"
   ]
  },
  {
   "cell_type": "markdown",
   "id": "b2be6006",
   "metadata": {},
   "source": [
    "#### 5. What Is Memory Management In Python?"
   ]
  },
  {
   "cell_type": "markdown",
   "id": "7487f1e7",
   "metadata": {},
   "source": [
    "Memory management in Python is the process of managing the memory that is used by Python programs. This includes allocating memory to objects, deallocating memory when objects are no longer needed, and ensuring that memory is used efficiently.\n",
    "Python uses a reference-counting system to manage memory. This means that each object in Python has a reference count, which is a number that indicates how many other objects are referring to it. When an object is created, its reference count is set to 1. When another object refers to an object, its reference count is incremented. When an object is no longer needed, its reference count is decremented. If the reference count of an object reaches 0, the object is deleted.\n",
    "Reference counting is a simple and efficient way to manage memory, but it can lead to memory leaks if objects are not properly de-allocated. For example, if a function creates an object and then returns the object to the caller, the caller must eventually de-allocate the object. If the caller does not de-allocate the object, the object will remain in memory until the Python interpreter is shut down.\n",
    "Python also provides a garbage collector, which can be used to automatically de-allocate objects that are no longer needed. The garbage collector is a more complex and efficient way to manage memory than reference counting, but it is not always available.\n",
    "Memory management is an important aspect of Python programming. By understanding how Python manages memory, you can write programs that use memory efficiently and avoid memory leaks.\n",
    "\n",
    "\n",
    "\n",
    "#### https://docs.python.org/3/c-api/memory.html#memory-management"
   ]
  },
  {
   "cell_type": "markdown",
   "id": "d5c78247",
   "metadata": {},
   "source": [
    "#### 7. How to Use Boto3 to Launch An EC2 Instance?"
   ]
  },
  {
   "cell_type": "code",
   "execution_count": null,
   "id": "27e54473",
   "metadata": {},
   "outputs": [],
   "source": [
    "\n",
    "\n",
    "\n",
    "# https://www.youtube.com/watch?v=qfCVS_6F-ZE\n",
    "# https://www.geeksforgeeks.org/launching-aws-ec2-instance-using-python/"
   ]
  },
  {
   "cell_type": "code",
   "execution_count": null,
   "id": "e4a1f866",
   "metadata": {},
   "outputs": [],
   "source": []
  },
  {
   "cell_type": "code",
   "execution_count": null,
   "id": "ef987567",
   "metadata": {},
   "outputs": [],
   "source": [
    "# https://dev.to/vikramaruchamy/how-to-copy-or-move-files-from-one-bucket-to-another-using-boto3-python-2ghf"
   ]
  },
  {
   "cell_type": "code",
   "execution_count": null,
   "id": "5ffb5c23",
   "metadata": {},
   "outputs": [],
   "source": []
  },
  {
   "cell_type": "code",
   "execution_count": null,
   "id": "a9fdc275",
   "metadata": {},
   "outputs": [],
   "source": []
  },
  {
   "cell_type": "code",
   "execution_count": null,
   "id": "516566da",
   "metadata": {},
   "outputs": [],
   "source": []
  },
  {
   "cell_type": "code",
   "execution_count": null,
   "id": "3ec5bf0f",
   "metadata": {},
   "outputs": [],
   "source": []
  },
  {
   "cell_type": "code",
   "execution_count": null,
   "id": "f229fbfd",
   "metadata": {},
   "outputs": [],
   "source": []
  },
  {
   "cell_type": "code",
   "execution_count": 1,
   "id": "5b3ea8ed",
   "metadata": {},
   "outputs": [],
   "source": [
    "\n",
    "# 8. How to copy An Object From One S3 Bucket to Another\n",
    "# 9. How to Implement Multi-Factor Authentication For AWS Services And Setting Up IAM Roles?"
   ]
  },
  {
   "cell_type": "code",
   "execution_count": null,
   "id": "b1b7f18a",
   "metadata": {},
   "outputs": [],
   "source": []
  }
 ],
 "metadata": {
  "kernelspec": {
   "display_name": "Python 3 (ipykernel)",
   "language": "python",
   "name": "python3"
  },
  "language_info": {
   "codemirror_mode": {
    "name": "ipython",
    "version": 3
   },
   "file_extension": ".py",
   "mimetype": "text/x-python",
   "name": "python",
   "nbconvert_exporter": "python",
   "pygments_lexer": "ipython3",
   "version": "3.11.0"
  }
 },
 "nbformat": 4,
 "nbformat_minor": 5
}
