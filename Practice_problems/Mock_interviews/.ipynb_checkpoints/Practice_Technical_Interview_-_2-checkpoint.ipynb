{
 "cells": [
  {
   "cell_type": "markdown",
   "id": "6777dd10",
   "metadata": {},
   "source": [
    "## Pracitce Questions"
   ]
  },
  {
   "cell_type": "markdown",
   "id": "d9c57807",
   "metadata": {},
   "source": [
    "#### 1. WAP to Convert A String to Lower-Case In Python?"
   ]
  },
  {
   "cell_type": "code",
   "execution_count": 24,
   "id": "8d15c058",
   "metadata": {},
   "outputs": [
    {
     "name": "stdout",
     "output_type": "stream",
     "text": [
      "geeksforgeeks\n",
      "geeksforgeeks\n"
     ]
    }
   ],
   "source": [
    "# Solution - \n",
    "\n",
    "# Checking for lowercase characters \n",
    "string = 'GEEKSFORGEEKS' #Define a string that contains only uppercase. \n",
    "print(string.lower()) #convert into lower case \n",
    "\n",
    "string = 'GeeksforGeeks' #Define a string that contains noth uppercase and lowercase. \n",
    "print(string.lower()) #convert into lower case. \n",
    "\n",
    "\n",
    "#reference - https://www.geeksforgeeks.org/isupper-islower-lower-upper-python-applications/"
   ]
  },
  {
   "cell_type": "markdown",
   "id": "4760eb6f",
   "metadata": {},
   "source": [
    "#### 2. WAP to Remove Duplicate Elements From A List?"
   ]
  },
  {
   "cell_type": "code",
   "execution_count": 25,
   "id": "4035567b",
   "metadata": {},
   "outputs": [
    {
     "name": "stdout",
     "output_type": "stream",
     "text": [
      "[2, 4, 5, 10, 20]\n"
     ]
    }
   ],
   "source": [
    "# Solution - \n",
    "\n",
    "# sample - Input : [2, 4, 10, 20, 5, 2, 20, 4]\n",
    "# Output : [2, 4, 10, 20, 5]\n",
    "\n",
    "\n",
    "input_data = [2, 4, 10, 20, 5, 2, 20, 4]\n",
    "set_input_data = set(input_data)\n",
    "# print(set_input_data)\n",
    "input_data = list(set_input_data)\n",
    "print(sorted(input_data))\n",
    "\n",
    "# For more reference - https://www.geeksforgeeks.org/python-remove-duplicates-list/"
   ]
  },
  {
   "cell_type": "markdown",
   "id": "16c1e109",
   "metadata": {},
   "source": [
    "#### 3. How to Remove Spaces From A String?"
   ]
  },
  {
   "cell_type": "code",
   "execution_count": 26,
   "id": "cbf4678f",
   "metadata": {},
   "outputs": [
    {
     "name": "stdout",
     "output_type": "stream",
     "text": [
      "geek\n"
     ]
    }
   ],
   "source": [
    "# Solution -\n",
    "\n",
    "# Python3 code to remove whitespace -\n",
    "def remove(string):\n",
    "    return string.replace(\" \", \"\")\n",
    "\n",
    "# Driver Program\n",
    "string = ' g e e k '\n",
    "print(remove(string))\n",
    "\n",
    "# input_string = ' g e e k '\n",
    "# print(input_string.split(\" \"))\n",
    "\n",
    "\n",
    "# Refernce - https://www.geeksforgeeks.org/python-remove-spaces-from-a-string/"
   ]
  },
  {
   "cell_type": "markdown",
   "id": "a0d7a305",
   "metadata": {},
   "source": [
    "#### 4. What Is Pickling And Unpickling?"
   ]
  },
  {
   "cell_type": "markdown",
   "id": "76efb5cc",
   "metadata": {},
   "source": [
    "Pythons pickling and un-pickling capabilities are essential for serializing and deserializing Python objects. Pickling converts a Python object hierarchy into a byte stream, preserving its state and structure for object persistence and inter-process communication. Un-pickling converts the serialized byte stream back into a Python object hierarchy, restoring the original object. Most Python objects can be pickled, including these data-types - [int, float, complex numbers, strings, bytes, byte arrays, Boolean Values, lists, set, tuples and dictionaries]. Functions and classes can also be pickled, but restrictions exist, such as pickling file objects, network sockets, database connections, and certain system resources.The pickle module provides functions like dump() and load(), which can be used to serialize and deserialize objects. Examples include pickling a dictionary and un-pickling a list. The pickle module also provides functions like fix_imports, encoding, errors, and buffers to handle decoding errors. Understanding these functions is crucial for efficient Python programming.\n",
    "\n",
    "#### for more details https://python.plainenglish.io/pickling-and-un-pickling-in-python-a-comprehensive-tutorial-2047ad7273a0"
   ]
  },
  {
   "cell_type": "code",
   "execution_count": 27,
   "id": "e24f87b3",
   "metadata": {},
   "outputs": [
    {
     "name": "stdout",
     "output_type": "stream",
     "text": [
      "Pickling None\n",
      "Unpickling {'name': 'John', 'age': 30, 'city': 'New York'}\n"
     ]
    }
   ],
   "source": [
    "import pickle\n",
    "\n",
    "# Pickling\n",
    "data = {'name': 'John', 'age': 30, 'city': 'New York'}\n",
    "\n",
    "with open('data.pkl', 'wb') as file:\n",
    "     unloaded_data = pickle.dump(data, file)\n",
    "     \n",
    "print('Pickling', unloaded_data)\n",
    "        \n",
    "# Unpickling\n",
    "with open('data.pkl', 'rb') as file:\n",
    "     loaded_data = pickle.load(file)\n",
    "\n",
    "print('Unpickling', loaded_data)"
   ]
  },
  {
   "cell_type": "markdown",
   "id": "4108b62a",
   "metadata": {},
   "source": [
    "#### 6. How to Automate Data Extraction From A PDF File And Save It to A CSV Etc.?"
   ]
  },
  {
   "cell_type": "code",
   "execution_count": 28,
   "id": "6d8c431d",
   "metadata": {},
   "outputs": [
    {
     "ename": "AttributeError",
     "evalue": "module 'pdfminer' has no attribute 'pdfparser'",
     "output_type": "error",
     "traceback": [
      "\u001b[1;31m---------------------------------------------------------------------------\u001b[0m",
      "\u001b[1;31mAttributeError\u001b[0m                            Traceback (most recent call last)",
      "Cell \u001b[1;32mIn[28], line 4\u001b[0m\n\u001b[0;32m      1\u001b[0m \u001b[38;5;28;01mimport\u001b[39;00m \u001b[38;5;21;01mpdfminer\u001b[39;00m\n\u001b[0;32m      3\u001b[0m \u001b[38;5;28;01mwith\u001b[39;00m \u001b[38;5;28mopen\u001b[39m(\u001b[38;5;124m'\u001b[39m\u001b[38;5;124mIdeaPad_3_15ALC6_Spec.pdf\u001b[39m\u001b[38;5;124m'\u001b[39m, \u001b[38;5;124m'\u001b[39m\u001b[38;5;124mrb\u001b[39m\u001b[38;5;124m'\u001b[39m) \u001b[38;5;28;01mas\u001b[39;00m f:\n\u001b[1;32m----> 4\u001b[0m     pdf \u001b[38;5;241m=\u001b[39m \u001b[43mpdfminer\u001b[49m\u001b[38;5;241;43m.\u001b[39;49m\u001b[43mpdfparser\u001b[49m\u001b[38;5;241m.\u001b[39mPDFParser(f)\n\u001b[0;32m      5\u001b[0m     pdf\u001b[38;5;241m.\u001b[39mparse()\n\u001b[0;32m      6\u001b[0m     text \u001b[38;5;241m=\u001b[39m pdf\u001b[38;5;241m.\u001b[39mextract_text()\n",
      "\u001b[1;31mAttributeError\u001b[0m: module 'pdfminer' has no attribute 'pdfparser'"
     ]
    }
   ],
   "source": [
    "import pdfminer\n",
    "\n",
    "with open('IdeaPad_3_15ALC6_Spec.pdf', 'rb') as f:\n",
    "    pdf = pdfminer.pdfparser.PDFParser(f)\n",
    "    pdf.parse()\n",
    "    text = pdf.extract_text()\n",
    "\n",
    "lines = text.split('\\n')\n",
    "\n",
    "for line in lines:\n",
    "    # Do something with the data.\n",
    "    if 'Name' in line:\n",
    "        name = line.split(':')[1]\n",
    "    if 'Age' in line:\n",
    "        age = line.split(':')[1]\n",
    "\n",
    "print(name, age)\n",
    "\n",
    "with open('data.csv', 'w', newline='') as f:\n",
    "    writer = csv.writer(f)\n",
    "    writer.writerow([name, age])\n",
    "\n",
    "\n",
    "# For more reference, please check this URL - https://www.freecodecamp.org/news/extract-data-from-pdf-files-with-python/"
   ]
  },
  {
   "cell_type": "code",
   "execution_count": null,
   "id": "288626e1",
   "metadata": {},
   "outputs": [],
   "source": [
    "#pip install pdfminer"
   ]
  },
  {
   "cell_type": "code",
   "execution_count": null,
   "id": "115981b7",
   "metadata": {},
   "outputs": [],
   "source": [
    "# 5. What Is Memory Management In Python?\n",
    "\n",
    "# 7. How to Use Boto3 to Launch An EC2 Instance?\n",
    "# 8. How to copy An Object From One S3 Bucket to Another\n",
    "# 9. How to Implement Multi-Factor Authentication For AWS Services And Setting Up IAM Roles?"
   ]
  }
 ],
 "metadata": {
  "kernelspec": {
   "display_name": "Python 3 (ipykernel)",
   "language": "python",
   "name": "python3"
  },
  "language_info": {
   "codemirror_mode": {
    "name": "ipython",
    "version": 3
   },
   "file_extension": ".py",
   "mimetype": "text/x-python",
   "name": "python",
   "nbconvert_exporter": "python",
   "pygments_lexer": "ipython3",
   "version": "3.11.0"
  }
 },
 "nbformat": 4,
 "nbformat_minor": 5
}
