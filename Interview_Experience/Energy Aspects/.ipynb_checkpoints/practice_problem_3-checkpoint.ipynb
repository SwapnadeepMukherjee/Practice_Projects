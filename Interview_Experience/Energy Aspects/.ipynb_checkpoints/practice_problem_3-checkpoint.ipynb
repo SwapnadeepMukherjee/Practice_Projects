{
 "cells": [
  {
   "cell_type": "markdown",
   "id": "8bc3703d",
   "metadata": {},
   "source": [
    "# Instruction"
   ]
  },
  {
   "cell_type": "markdown",
   "id": "ce061a74",
   "metadata": {},
   "source": [
    "To be completed in `10 min`\n",
    "\n",
    "Implement the unique_names method. When passed two arrays of names, it will return an array containing the names that appear in either or both arrays.\n",
    "\n",
    "The returned array should have no duplicates.\n",
    "\n",
    "For example, calling unique_names(['Ava', 'Emma', 'Olivia'], ['Olivia', 'Sophia', 'Emma']) should return an array containing Ava, Emma, Olivia, and Sophia in any order."
   ]
  },
  {
   "cell_type": "markdown",
   "id": "901b49d7",
   "metadata": {},
   "source": [
    "### Start-up code"
   ]
  },
  {
   "cell_type": "code",
   "execution_count": 20,
   "id": "8fcae73f",
   "metadata": {},
   "outputs": [],
   "source": [
    "def unique_names(names1, names2):\n",
    "    return None\n",
    "\n",
    "\n",
    "names1 = [\"Ava\", \"Emma\", \"Olivia\"]\n",
    "names2 = [\"Olivia\", \"Sophia\", \"Emma\"]\n",
    "# print(unique_names(names1, names2))  # should print Ava, Emma, Olivia, Sophia"
   ]
  },
  {
   "cell_type": "markdown",
   "id": "61f5b519",
   "metadata": {},
   "source": [
    "### Dirty solution"
   ]
  },
  {
   "cell_type": "code",
   "execution_count": 21,
   "id": "38cb782f",
   "metadata": {},
   "outputs": [
    {
     "name": "stdout",
     "output_type": "stream",
     "text": [
      "['Ava', 'Emma', 'Olivia', 'Sophia']\n"
     ]
    }
   ],
   "source": [
    "# Solution - 1 - \n",
    "\n",
    "def unique_names(names1, names2):\n",
    "    return sorted(list(set(names1+names2)))\n",
    "\n",
    "\n",
    "names1 = [\"Ava\", \"Emma\", \"Olivia\"]\n",
    "names2 = [\"Olivia\", \"Sophia\", \"Emma\"]\n",
    "print(unique_names(names1, names2))  # should print Ava, Emma, Olivia, Sophia"
   ]
  },
  {
   "cell_type": "code",
   "execution_count": 22,
   "id": "6d6e3da1",
   "metadata": {},
   "outputs": [
    {
     "name": "stdout",
     "output_type": "stream",
     "text": [
      "['Ava', 'Olivia', 'Emma', 'Sophia']\n"
     ]
    }
   ],
   "source": [
    "# Solution - 2 - \n",
    "\n",
    "def unique_names(names1, names2):\n",
    "    return list(set(names1+names2))\n",
    "\n",
    "\n",
    "names1 = [\"Ava\", \"Emma\", \"Olivia\"]\n",
    "names2 = [\"Olivia\", \"Sophia\", \"Emma\"]\n",
    "print(unique_names(names1, names2))  # should print Ava, Emma, Olivia, Sophia"
   ]
  },
  {
   "cell_type": "markdown",
   "id": "511d09c1",
   "metadata": {},
   "source": [
    "### Elegant solution"
   ]
  },
  {
   "cell_type": "markdown",
   "id": "931a1979",
   "metadata": {},
   "source": [
    "- `itertools` is a module implements a number of iterator building blocks inspired by constructs from APL, Haskell, and SML. Each has been recast in a form suitable for Python.\n",
    "\n",
    "- The module standardizes a core set of fast, memory efficient tools that are useful by themselves or in combination. Together, they form an “iterator algebra” making it possible to construct specialized tools succinctly and efficiently in pure Python."
   ]
  },
  {
   "cell_type": "code",
   "execution_count": 23,
   "id": "ca78ce01",
   "metadata": {},
   "outputs": [
    {
     "name": "stdout",
     "output_type": "stream",
     "text": [
      "['Ava', 'Olivia', 'Emma', 'Sophia']\n"
     ]
    }
   ],
   "source": [
    "from itertools import chain\n",
    "\n",
    "def unique_names(names1, names2):\n",
    "    return list(set(chain(names1, names2)))\n",
    "\n",
    "\n",
    "names1 = [\"Ava\", \"Emma\", \"Olivia\"]\n",
    "names2 = [\"Olivia\", \"Sophia\", \"Emma\"]\n",
    "print(unique_names(names1, names2))  # should print Ava, Emma, Olivia, Sophia"
   ]
  },
  {
   "cell_type": "code",
   "execution_count": null,
   "id": "866ff7c2",
   "metadata": {},
   "outputs": [],
   "source": []
  },
  {
   "cell_type": "code",
   "execution_count": null,
   "id": "48976dad",
   "metadata": {},
   "outputs": [],
   "source": []
  },
  {
   "cell_type": "code",
   "execution_count": null,
   "id": "6649915b",
   "metadata": {},
   "outputs": [],
   "source": []
  }
 ],
 "metadata": {
  "kernelspec": {
   "display_name": "Python 3 (ipykernel)",
   "language": "python",
   "name": "python3"
  },
  "language_info": {
   "codemirror_mode": {
    "name": "ipython",
    "version": 3
   },
   "file_extension": ".py",
   "mimetype": "text/x-python",
   "name": "python",
   "nbconvert_exporter": "python",
   "pygments_lexer": "ipython3",
   "version": "3.11.0"
  }
 },
 "nbformat": 4,
 "nbformat_minor": 5
}
