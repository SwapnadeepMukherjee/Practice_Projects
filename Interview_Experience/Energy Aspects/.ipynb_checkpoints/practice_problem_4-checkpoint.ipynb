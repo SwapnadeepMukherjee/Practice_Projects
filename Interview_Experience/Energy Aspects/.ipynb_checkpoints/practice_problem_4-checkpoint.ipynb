{
 "cells": [
  {
   "cell_type": "markdown",
   "id": "f3d5a16d",
   "metadata": {},
   "source": [
    "# Instruction"
   ]
  },
  {
   "cell_type": "markdown",
   "id": "25d09aac",
   "metadata": {},
   "source": [
    "To be completed in `10 min`\n",
    "\n",
    "A palindrome is a word that reads the same backward or forward.\n",
    "\n",
    "Write a function that checks if a given word is a palindrome.\n",
    "\n",
    "Character case should be ignored.\n",
    "\n",
    "For example, is_palindrome(\"Deleveled\") should return True as character case should be ignored, resulting in \"deleveled\", which is a palindrome since it reads the same backward and forward."
   ]
  },
  {
   "cell_type": "markdown",
   "id": "09b808e5",
   "metadata": {},
   "source": [
    "### Start-up code"
   ]
  },
  {
   "cell_type": "code",
   "execution_count": 11,
   "id": "d1aee0ad",
   "metadata": {},
   "outputs": [],
   "source": [
    "def is_palindrome(word):\n",
    "    return None\n",
    "\n",
    "\n",
    "# print(is_palindrome('Deleveled'))"
   ]
  },
  {
   "cell_type": "markdown",
   "id": "ef70f36b",
   "metadata": {},
   "source": [
    "### Dirty/Quick Solution - "
   ]
  },
  {
   "cell_type": "code",
   "execution_count": 12,
   "id": "6595a113",
   "metadata": {},
   "outputs": [
    {
     "name": "stdout",
     "output_type": "stream",
     "text": [
      "True\n",
      "False\n",
      "True\n"
     ]
    }
   ],
   "source": [
    "def is_palindrome(word):\n",
    "    \n",
    "    if word.lower() == word.lower()[::-1]:\n",
    "        return True\n",
    "    else:\n",
    "        return False\n",
    "\n",
    "print(is_palindrome('Deleveled'))\n",
    "print(is_palindrome('Ciao'))\n",
    "print(is_palindrome('Liril'))"
   ]
  },
  {
   "cell_type": "markdown",
   "id": "875d2c81",
   "metadata": {},
   "source": [
    "### Elegant/Complete Solution - "
   ]
  },
  {
   "cell_type": "code",
   "execution_count": 13,
   "id": "8b7cf33d",
   "metadata": {},
   "outputs": [
    {
     "name": "stdout",
     "output_type": "stream",
     "text": [
      "False\n",
      "False\n",
      "False\n"
     ]
    }
   ],
   "source": [
    "def is_palindrome(word):\n",
    "    word = word.lower()    \n",
    "    half = len(word) // 2 \n",
    "    m = len(word) % 2\n",
    "    return word[:half] == word[:half+m-1:-1]\n",
    "\n",
    "print(is_palindrome('Deleveled'))\n",
    "print(is_palindrome('Ciao'))\n",
    "print(is_palindrome('Liril'))"
   ]
  },
  {
   "cell_type": "code",
   "execution_count": null,
   "id": "592dc72e",
   "metadata": {},
   "outputs": [],
   "source": []
  },
  {
   "cell_type": "code",
   "execution_count": null,
   "id": "4a1f01eb",
   "metadata": {},
   "outputs": [],
   "source": []
  },
  {
   "cell_type": "code",
   "execution_count": null,
   "id": "bd51fe2a",
   "metadata": {},
   "outputs": [],
   "source": []
  },
  {
   "cell_type": "code",
   "execution_count": null,
   "id": "74ed910b",
   "metadata": {},
   "outputs": [],
   "source": []
  }
 ],
 "metadata": {
  "kernelspec": {
   "display_name": "Python 3 (ipykernel)",
   "language": "python",
   "name": "python3"
  },
  "language_info": {
   "codemirror_mode": {
    "name": "ipython",
    "version": 3
   },
   "file_extension": ".py",
   "mimetype": "text/x-python",
   "name": "python",
   "nbconvert_exporter": "python",
   "pygments_lexer": "ipython3",
   "version": "3.11.0"
  }
 },
 "nbformat": 4,
 "nbformat_minor": 5
}
