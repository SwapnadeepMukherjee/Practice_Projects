{
 "cells": [
  {
   "cell_type": "markdown",
   "id": "a0e42dc7",
   "metadata": {},
   "source": [
    "# Instruction"
   ]
  },
  {
   "cell_type": "markdown",
   "id": "1d808c08",
   "metadata": {},
   "source": [
    "To be completed `10min`\n",
    "\n",
    " As part of a data processing pipeline, complete the implementation of the pipeline method:\n",
    "\n",
    " - The method should accept a variable number of functions, and it should return a new function that accepts one parameter arg.\n",
    " - The returned function should call the first function in the pipeline with the parameter arg, and call the second function with the result of the first function.\n",
    " - The returned function should continue calling each function in the pipeline in order, following the same pattern, and return the value from the last function.\n",
    " - For example, pipeline(lambda x: x * 3, lambda x: x + 1, lambda x: x / 2) then calling the returned function with 3 should return 5.0."
   ]
  },
  {
   "cell_type": "markdown",
   "id": "e18fa7a2",
   "metadata": {},
   "source": [
    "### Start-up code"
   ]
  },
  {
   "cell_type": "code",
   "execution_count": 8,
   "id": "b2ec7173",
   "metadata": {},
   "outputs": [
    {
     "ename": "IndentationError",
     "evalue": "unindent does not match any outer indentation level (<tokenize>, line 5)",
     "output_type": "error",
     "traceback": [
      "\u001b[1;36m  File \u001b[1;32m<tokenize>:5\u001b[1;36m\u001b[0m\n\u001b[1;33m    return arg\u001b[0m\n\u001b[1;37m    ^\u001b[0m\n\u001b[1;31mIndentationError\u001b[0m\u001b[1;31m:\u001b[0m unindent does not match any outer indentation level\n"
     ]
    }
   ],
   "source": [
    "def pipeline(*funcs):\n",
    "    def helper(arg):\n",
    "        for f in funcs:\n",
    "            arg = f(arg)\n",
    "        return arg\n",
    "    return helper\n",
    "\n",
    "\n",
    "fun = pipeline(lambda x: x * 3, lambda x: x + 1, lambda x: x / 2)\n",
    "# print(fun(3))  # should print 5.0"
   ]
  },
  {
   "cell_type": "code",
   "execution_count": null,
   "id": "f1308885",
   "metadata": {},
   "outputs": [],
   "source": []
  },
  {
   "cell_type": "code",
   "execution_count": null,
   "id": "9d452ebc",
   "metadata": {},
   "outputs": [],
   "source": []
  },
  {
   "cell_type": "code",
   "execution_count": null,
   "id": "8eea3050",
   "metadata": {},
   "outputs": [],
   "source": []
  },
  {
   "cell_type": "code",
   "execution_count": null,
   "id": "595104b3",
   "metadata": {},
   "outputs": [],
   "source": []
  },
  {
   "cell_type": "code",
   "execution_count": null,
   "id": "68e5a840",
   "metadata": {},
   "outputs": [],
   "source": []
  },
  {
   "cell_type": "code",
   "execution_count": null,
   "id": "394f859b",
   "metadata": {},
   "outputs": [],
   "source": []
  }
 ],
 "metadata": {
  "kernelspec": {
   "display_name": "Python 3 (ipykernel)",
   "language": "python",
   "name": "python3"
  },
  "language_info": {
   "codemirror_mode": {
    "name": "ipython",
    "version": 3
   },
   "file_extension": ".py",
   "mimetype": "text/x-python",
   "name": "python",
   "nbconvert_exporter": "python",
   "pygments_lexer": "ipython3",
   "version": "3.11.0"
  }
 },
 "nbformat": 4,
 "nbformat_minor": 5
}
