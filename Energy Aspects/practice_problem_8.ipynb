{
 "cells": [
  {
   "cell_type": "markdown",
   "id": "a0e42dc7",
   "metadata": {},
   "source": [
    "# Instruction"
   ]
  },
  {
   "cell_type": "markdown",
   "id": "1d808c08",
   "metadata": {},
   "source": [
    "To be completed `10min`\n",
    "\n",
    "As part of a data processing pipeline, complete the implementation of the pipeline method:\n",
    "\n",
    "The method should accept a variable number of functions, and it should return a new function that accepts one parameter arg.\n",
    "The returned function should call the first function in the pipeline with the parameter arg, and call the second function with the result of the first function.\n",
    "The returned function should continue calling each function in the pipeline in order, following the same pattern, and return the value from the last function.\n",
    "For example, pipeline(lambda x: x * 3, lambda x: x + 1, lambda x: x / 2) then calling the returned function with 3 should return 5.0."
   ]
  },
  {
   "cell_type": "code",
   "execution_count": null,
   "id": "24ee88a9",
   "metadata": {},
   "outputs": [],
   "source": []
  }
 ],
 "metadata": {
  "kernelspec": {
   "display_name": "Python 3 (ipykernel)",
   "language": "python",
   "name": "python3"
  },
  "language_info": {
   "codemirror_mode": {
    "name": "ipython",
    "version": 3
   },
   "file_extension": ".py",
   "mimetype": "text/x-python",
   "name": "python",
   "nbconvert_exporter": "python",
   "pygments_lexer": "ipython3",
   "version": "3.11.0"
  }
 },
 "nbformat": 4,
 "nbformat_minor": 5
}
