{
 "cells": [
  {
   "cell_type": "markdown",
   "id": "b5bb635f",
   "metadata": {},
   "source": [
    "# Instruction"
   ]
  },
  {
   "cell_type": "markdown",
   "id": "f776afa7",
   "metadata": {},
   "source": [
    "- A playlist is considered a repeating playlist if any of the songs contain a reference to a previous song in the playlist. Otherwise, the playlist will end with the last song which points to None.\n",
    "\n",
    "- Implement a function is_repeating_playlist that, efficiently with respect to time used, returns true if a playlist is repeating or false if it is not."
   ]
  },
  {
   "cell_type": "markdown",
   "id": "ea12b244",
   "metadata": {},
   "source": [
    "### Start-up code"
   ]
  },
  {
   "cell_type": "code",
   "execution_count": 5,
   "id": "6aa7d35b",
   "metadata": {},
   "outputs": [],
   "source": [
    "#For example, the following code prints \"True\" as both songs point to each other. why?\n",
    "class Song:\n",
    "    def __init__(self, name):\n",
    "        self.name = name\n",
    "        self.next = None\n",
    "    \n",
    "    def next_song(self, song):\n",
    "        self.next = song\n",
    "    \n",
    "    def is_repeating_playlist(self):\n",
    "        return None\n",
    "    \n",
    "first = Song(\"Hello\")\n",
    "second = Song(\"Eye of the tiger\")\n",
    "first.next_song(second);\n",
    "second.next_song(first);\n",
    "# print(first.is_repeating_playlist())"
   ]
  },
  {
   "cell_type": "markdown",
   "id": "ad039118",
   "metadata": {},
   "source": [
    "### Solution #1"
   ]
  },
  {
   "cell_type": "code",
   "execution_count": 7,
   "id": "ed75af49",
   "metadata": {},
   "outputs": [
    {
     "name": "stdout",
     "output_type": "stream",
     "text": [
      "True\n",
      "True\n"
     ]
    }
   ],
   "source": [
    "class Song:\n",
    "    def __init__(self, name):\n",
    "        self.name = name\n",
    "        self.next = None\n",
    "\n",
    "    def next_song(self, song):\n",
    "        self.next = song\n",
    "\n",
    "    def is_repeating_playlist(self):\n",
    "        \"\"\"\n",
    "        :returns: (bool) True if the playlist is repeating, False if not.\n",
    "        \"\"\"\n",
    "        playlist = {self}\n",
    "        song = self.next\n",
    "        while song:\n",
    "            if song in playlist:\n",
    "                return True\n",
    "            else:\n",
    "                playlist.add(song)\n",
    "                song = song.next\n",
    "        return False\n",
    "\n",
    "first = Song(\"Hello\")\n",
    "second = Song(\"Eye of the tiger\")\n",
    "\n",
    "first.next_song(second)\n",
    "second.next_song(first)\n",
    "\n",
    "print(first.is_repeating_playlist())\n",
    "print(second.is_repeating_playlist())"
   ]
  },
  {
   "cell_type": "code",
   "execution_count": null,
   "id": "01cd54b3",
   "metadata": {},
   "outputs": [],
   "source": []
  },
  {
   "cell_type": "code",
   "execution_count": null,
   "id": "dbf3e281",
   "metadata": {},
   "outputs": [],
   "source": []
  },
  {
   "cell_type": "code",
   "execution_count": null,
   "id": "a8ee9c3f",
   "metadata": {},
   "outputs": [],
   "source": []
  },
  {
   "cell_type": "code",
   "execution_count": null,
   "id": "cf785f11",
   "metadata": {},
   "outputs": [],
   "source": []
  }
 ],
 "metadata": {
  "kernelspec": {
   "display_name": "Python 3 (ipykernel)",
   "language": "python",
   "name": "python3"
  },
  "language_info": {
   "codemirror_mode": {
    "name": "ipython",
    "version": 3
   },
   "file_extension": ".py",
   "mimetype": "text/x-python",
   "name": "python",
   "nbconvert_exporter": "python",
   "pygments_lexer": "ipython3",
   "version": "3.11.0"
  }
 },
 "nbformat": 4,
 "nbformat_minor": 5
}
