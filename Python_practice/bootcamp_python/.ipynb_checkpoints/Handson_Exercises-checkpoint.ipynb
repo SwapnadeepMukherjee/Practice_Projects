{
 "cells": [
  {
   "cell_type": "markdown",
   "id": "0ec6c233-999c-46f9-ae17-9706be3447e9",
   "metadata": {},
   "source": [
    "#### Chapter: 10: Errors and Exception Handling: \n",
    "\n",
    "#### Errors and Exceptions Homework:"
   ]
  },
  {
   "cell_type": "code",
   "execution_count": 12,
   "id": "4184ffd7-2ced-4a9f-84ed-3d6785939c9d",
   "metadata": {},
   "outputs": [
    {
     "name": "stdout",
     "output_type": "stream",
     "text": [
      "Please enter a correct value\n"
     ]
    }
   ],
   "source": [
    "# Problem 1:\n",
    "# Handle the exception thrown by the code below by using try and except blocks:\n",
    "\n",
    "try:\n",
    "    for i in ['a','b','c']:\n",
    "        print(i**2)\n",
    "except: \n",
    "    print(\"Please enter a correct value\")\n",
    "\n"
   ]
  },
  {
   "cell_type": "code",
   "execution_count": 13,
   "id": "6423e5b5-b79a-4bff-afd8-64beb4e49ff1",
   "metadata": {},
   "outputs": [
    {
     "name": "stdout",
     "output_type": "stream",
     "text": [
      "Error: division by zero is not permitted.\n"
     ]
    }
   ],
   "source": [
    "# Problem 2\n",
    "# Handle the exception thrown by the code below by using try and except blocks. Then use a finally block to print 'All Done.'\n",
    "\n",
    "x = 5\n",
    "y = 0\n",
    "\n",
    "try:\n",
    "    z = x/y\n",
    "except ZeroDivisionError:\n",
    "    print(\"Error: division by zero is not permitted.\")"
   ]
  },
  {
   "cell_type": "code",
   "execution_count": 14,
   "id": "5d35fbc1-b3c9-4546-8b09-1c110fa95ed8",
   "metadata": {},
   "outputs": [
    {
     "name": "stdin",
     "output_type": "stream",
     "text": [
      "Please enter a value 19\n"
     ]
    },
    {
     "name": "stdout",
     "output_type": "stream",
     "text": [
      "Sqaure of 19 is: 361\n",
      "Yes, thank you!\n",
      "I am going to ask again\n"
     ]
    }
   ],
   "source": [
    "# Problem 3\n",
    "# Write a function that asks for an integer and prints the square of it. Use a while loop with a try, except, else block to account for incorrect inputs.\n",
    "\n",
    "def ask_for_int():\n",
    "    \n",
    "    while True:\n",
    "        try:\n",
    "            res = int(input(\"Please enter a valid number:\"))\n",
    "            final_res = res**2\n",
    "            print(f\"Sqaure of {res} is: {final_res}\")\n",
    "        except:\n",
    "            print(\"Whoops! That's not a number\")\n",
    "        else:\n",
    "            print(\"Yes, thank you!\")\n",
    "            break\n",
    "        finally: \n",
    "            print(\"I am going to ask again\")\n",
    "\n",
    "ask_for_int()"
   ]
  },
  {
   "cell_type": "code",
   "execution_count": null,
   "id": "0525dd44-ea10-4811-9807-5ccbea0bcda1",
   "metadata": {},
   "outputs": [],
   "source": []
  }
 ],
 "metadata": {
  "kernelspec": {
   "display_name": "Python 3 (ipykernel)",
   "language": "python",
   "name": "python3"
  },
  "language_info": {
   "codemirror_mode": {
    "name": "ipython",
    "version": 3
   },
   "file_extension": ".py",
   "mimetype": "text/x-python",
   "name": "python",
   "nbconvert_exporter": "python",
   "pygments_lexer": "ipython3",
   "version": "3.11.0"
  }
 },
 "nbformat": 4,
 "nbformat_minor": 5
}
