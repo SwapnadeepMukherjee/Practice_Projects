{
 "cells": [
  {
   "cell_type": "code",
   "execution_count": 19,
   "id": "7646a8c9-ef48-4a74-8627-41c34cb6936f",
   "metadata": {},
   "outputs": [],
   "source": [
    "#CARD:\n",
    "#SUIT, RANK, VALUE:\n",
    "\n",
    "#Creating a card class with Suit, Rank, Value as Objects:\n",
    "class Card:\n",
    "    \n",
    "    def __init__(self, suit, rank):\n",
    "        self.suit = suit\n",
    "        self.rank = rank\n",
    "\n",
    "    def __str__(self):\n",
    "        return self.rank + \" of \" + self.suit\n",
    "\n",
    "two_hearts = Card(\"Hearts\", \"Two\")"
   ]
  },
  {
   "cell_type": "code",
   "execution_count": 23,
   "id": "5dc49c19-e9c6-428e-a8da-7b65df49d09f",
   "metadata": {},
   "outputs": [
    {
     "name": "stdout",
     "output_type": "stream",
     "text": [
      "Two of Hearts\n"
     ]
    },
    {
     "data": {
      "text/plain": [
       "'Hearts'"
      ]
     },
     "execution_count": 23,
     "metadata": {},
     "output_type": "execute_result"
    }
   ],
   "source": [
    "two_hearts\n",
    "print(two_hearts)\n",
    "two_hearts.suit\n",
    "two_hearts.rank"
   ]
  },
  {
   "cell_type": "code",
   "execution_count": null,
   "id": "f80c5be7-6932-4855-9d70-372e4b31a242",
   "metadata": {},
   "outputs": [],
   "source": []
  },
  {
   "cell_type": "code",
   "execution_count": null,
   "id": "e84d30b1-4b69-4b6d-a613-7f90feb452a4",
   "metadata": {},
   "outputs": [],
   "source": []
  }
 ],
 "metadata": {
  "kernelspec": {
   "display_name": "Python 3 (ipykernel)",
   "language": "python",
   "name": "python3"
  },
  "language_info": {
   "codemirror_mode": {
    "name": "ipython",
    "version": 3
   },
   "file_extension": ".py",
   "mimetype": "text/x-python",
   "name": "python",
   "nbconvert_exporter": "python",
   "pygments_lexer": "ipython3",
   "version": "3.11.0"
  }
 },
 "nbformat": 4,
 "nbformat_minor": 5
}
