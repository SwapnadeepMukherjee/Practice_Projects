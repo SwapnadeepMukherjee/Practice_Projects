{
 "cells": [
  {
   "cell_type": "markdown",
   "id": "7ee0e9ff-6936-42b4-b4c0-e3734da30524",
   "metadata": {},
   "source": [
    "# Milestone Project 1 - Tic Tac Toe Game:\n",
    "\n",
    "### \n",
    "Walkthrough Steps Workboo:# Below is a set of steps for you to follow to try to create the `Tic Tac Toe` Milestone Project game!\n",
    "\n",
    "#### Some suggested tools before you get started:\n",
    "\n",
    "To take input from a user: `player1 = input(\"Please pick a marker 'X' or 'O'\")`\n",
    "\n",
    "Note that input() takes in a string. If you need an integer value, use: `position = int(input('Please enter a number'))`\n",
    "\n",
    "To clear the screen between moves:\n",
    "\n",
    "`from IPython.display`\n",
    "`import clear_output`\n",
    "`clear_output()`\n",
    "\n",
    "**Note** that `clear_output()` will only work in jupyter. To clear the screen in other IDEs, consider: `print('\\n'*100)`\n",
    "\n",
    "This scrolls the previous board up out of view. Now on to the program!\n",
    "\n",
    "**Step 1: Write a function that can print out a board. Set up your board as a list, where each index 1-9 corresponds with a number on a number pad, so you get a 3 by 3 board representation.**"
   ]
  },
  {
   "cell_type": "code",
   "execution_count": 6,
   "id": "9ccbe5cd-f302-49bf-8ef6-8726b5d33128",
   "metadata": {},
   "outputs": [],
   "source": [
    "# Needed specifically for the iPython Notebook environment for clearing output.\n",
    "from IPython.display import clear_output\n",
    "\n",
    "# Setting the global variables:\n",
    "board = [' '] * 10  #empty list of 10 elements long. Reason: we are ignoring index 0 of the list for the sake of this game\n",
    "# print(board)\n",
    "game_state = True\n",
    "announce = ''"
   ]
  },
  {
   "cell_type": "code",
   "execution_count": 7,
   "id": "f1c7780f-8f78-42b5-8e33-d757166549d7",
   "metadata": {},
   "outputs": [],
   "source": [
    "# This function resets the board to initial blank state.\n",
    "\n",
    "def reset_board():\n",
    "    global board, game_state \n",
    "    clear_output()\n",
    "    board = [' '] * 10\n",
    "    game_state = True    "
   ]
  },
  {
   "cell_type": "code",
   "execution_count": 8,
   "id": "1dcf372c-3c51-471a-be6c-7aab0c5534c0",
   "metadata": {},
   "outputs": [],
   "source": [
    "# This function displays the whole board with each index corresponding to a mobile phones dial pads' arranged numbers\n",
    "\n",
    "def display_board():\n",
    "    clear_output()\n",
    "    print(\"  \" + board[1] + \" |  \" + board[2] + \" |  \" + board[3] + \"  \")\n",
    "    print(\"--------------\")\n",
    "    print(\"  \" + board[4] + \" |  \" + board[5] + \" |  \" + board[6] + \"  \")\n",
    "    print(\"--------------\")\n",
    "    print(\"  \" + board[7] + \" |  \" + board[8] + \" |  \" + board[9] + \"  \")"
   ]
  },
  {
   "cell_type": "code",
   "execution_count": 12,
   "id": "38add096-cf86-4e5c-8022-aecfc881ee6f",
   "metadata": {},
   "outputs": [],
   "source": [
    "# To check whether a player has won by checking the board's horizontal, vertical, and diagonal alignments for the same symbol:\n",
    "\n",
    "def check_win(board, symbol):\n",
    "    if (board[1] == board[2] == board[3] == symbol) or \\\n",
    "        (board[4] == board[5] == board[6] == symbol) or \\\n",
    "        (board[7] == board[8] == board[9] == symbol) or \\\n",
    "        (board[1] == board[4] == board[7] == symbol) or \\\n",
    "        (board[2] == board[5] == board[8] == symbol) or \\\n",
    "        (board[3] == board[6] == board[9] == symbol) or \\\n",
    "        (board[3] == board[5] == board[7] == symbol) or \\\n",
    "        (board[1] == board[5] == board[9] == symbol):\n",
    "            return True\n",
    "    else:\n",
    "            return False"
   ]
  },
  {
   "cell_type": "code",
   "execution_count": null,
   "id": "42cdfdd7-529a-4780-87ef-0ca5ee7f7bcd",
   "metadata": {},
   "outputs": [],
   "source": [
    "# Here, we check if there are remaining spaces unfilled in the board:\n",
    "\n",
    "def check_empty(board):\n",
    "    if \" \" in board[1:10]: # checks if the board is empty\n",
    "        return False\n",
    "    else: \n",
    "        return True"
   ]
  },
  {
   "cell_type": "code",
   "execution_count": null,
   "id": "df7e7ded-7aa9-4999-90d9-70fab5570e5c",
   "metadata": {},
   "outputs": [],
   "source": [
    "# Here, this function asks the players where to place their 'X' or 'O' symbol on the board and checks if it's valid:\n",
    "\n",
    "def ask_location(symbol):\n",
    "       global board\n",
    "       x = \"Choose from 1 - 9 on where to place your \" + symbol + \" ---> \"\n",
    "       while True:\n",
    "           try:\n",
    "               pick = int(input(x))\n",
    "           except ValueError:\n",
    "               print(\"Please enter a number between 1 - 9\")\n",
    "               continue\n",
    "\n",
    "           if board[pick] == \" \":\n",
    "               board[pick] = symbol\n",
    "               break\n",
    "           else:\n",
    "            print(\"The space is not empty\")\n",
    "            continue"
   ]
  },
  {
   "cell_type": "code",
   "execution_count": null,
   "id": "46d1fa77-91c3-47ea-a4f2-d0c4a6a5d514",
   "metadata": {},
   "outputs": [],
   "source": [
    "# Here, this function determines the new games state after the player makes a choice.\n",
    "\n",
    "def player_choice(symbol):\n",
    "    global board, game_state, announce\n",
    "    announce = \" \"\n",
    "    symbol = str(symbol)\n",
    "    ask_location(symbol)\n",
    "    if check_win(board, symbol):\n",
    "        clear_output()\n",
    "        display_board()\n",
    "        announce = symbol + \" wins! Congratulations!\"\n",
    "        game_state = False\n",
    "\n",
    "    clear_output()\n",
    "    display_board()\n",
    "    if check_empty(board):\n",
    "        announce = \"Game tied! End of game.\"\n",
    "        game_state = False\n",
    "\n",
    "    return game_state, announce"
   ]
  },
  {
   "cell_type": "code",
   "execution_count": 13,
   "id": "d42ac0f5-c162-4173-9fb9-4e5e52342bab",
   "metadata": {},
   "outputs": [
    {
     "ename": "SyntaxError",
     "evalue": "expected ':' (3639546104.py, line 16)",
     "output_type": "error",
     "traceback": [
      "\u001b[1;36m  Cell \u001b[1;32mIn[13], line 16\u001b[1;36m\u001b[0m\n\u001b[1;33m    if game_state == False\u001b[0m\n\u001b[1;37m                          ^\u001b[0m\n\u001b[1;31mSyntaxError\u001b[0m\u001b[1;31m:\u001b[0m expected ':'\n"
     ]
    }
   ],
   "source": [
    "# Here, this function is the main fucntion that helps in playing the game:\n",
    "\n",
    "def play():\n",
    "    reset_board()\n",
    "    global announce\n",
    "\n",
    "    X = 'X'\n",
    "    O = 'O'\n",
    "\n",
    "    while True:\n",
    "        clear_output()\n",
    "        display_board()\n",
    "    \n",
    "        game_state, announce = player_choice(x)\n",
    "        print(announce)\n",
    "        if game_state == False:\n",
    "            break\n",
    "    \n",
    "    rematch = input('Would you like to play again/ y or n')\n",
    "    if rematch == 'y':\n",
    "        play()\n",
    "    else:\n",
    "        print(\"okay. Have a nice day!\")\n",
    "\n",
    "play()"
   ]
  },
  {
   "cell_type": "code",
   "execution_count": null,
   "id": "c7627056-a524-45a5-b7c1-130bb472f75f",
   "metadata": {},
   "outputs": [],
   "source": []
  },
  {
   "cell_type": "code",
   "execution_count": null,
   "id": "a395cf49-f47f-4e5e-903c-83c2643e1871",
   "metadata": {},
   "outputs": [],
   "source": []
  },
  {
   "cell_type": "code",
   "execution_count": null,
   "id": "7965135f-85c8-4c9e-8760-2ff3b596c0d4",
   "metadata": {},
   "outputs": [],
   "source": []
  },
  {
   "cell_type": "code",
   "execution_count": null,
   "id": "cb825739-682d-4e62-86e5-771b5b4dec08",
   "metadata": {},
   "outputs": [],
   "source": []
  },
  {
   "cell_type": "code",
   "execution_count": null,
   "id": "059e9986-0cb8-490e-8dc8-292effd1f8da",
   "metadata": {},
   "outputs": [],
   "source": []
  },
  {
   "cell_type": "code",
   "execution_count": null,
   "id": "ec2234c9-20a9-41e0-a34e-82ac06565228",
   "metadata": {},
   "outputs": [],
   "source": []
  },
  {
   "cell_type": "code",
   "execution_count": null,
   "id": "e547fa22-396d-4367-a065-6d99775ea6a5",
   "metadata": {},
   "outputs": [],
   "source": []
  },
  {
   "cell_type": "code",
   "execution_count": null,
   "id": "cac110cc-343a-41d0-92ce-9e5351b2b8f8",
   "metadata": {},
   "outputs": [],
   "source": []
  },
  {
   "cell_type": "code",
   "execution_count": null,
   "id": "aa17aadb-3dd7-479a-b8b9-baf1c1f70346",
   "metadata": {},
   "outputs": [],
   "source": []
  },
  {
   "cell_type": "code",
   "execution_count": null,
   "id": "e2b7b703-1f57-46c5-8f82-482caaa48d34",
   "metadata": {},
   "outputs": [],
   "source": []
  },
  {
   "cell_type": "code",
   "execution_count": null,
   "id": "d9eeed71-5a78-43cb-9b9c-354f0571a173",
   "metadata": {},
   "outputs": [],
   "source": []
  },
  {
   "cell_type": "markdown",
   "id": "ae92d1ed-919b-4a69-ab5d-76cc7a64538c",
   "metadata": {},
   "source": [
    "#### Reference Solution: \n",
    "\n",
    "https://github.com/arnavpradhan/Zero-to-Hero-with-Python/blob/master/26-Milestone%20Project%201%20-%20Advanced%20Solution.ipynb\n",
    "https://github.com/wliang6/Udemy-Python-Course/blob/master/Tic-Tac-Toe_Milestone_Project.py"
   ]
  },
  {
   "cell_type": "code",
   "execution_count": null,
   "id": "49d16ff3-4623-49f9-80b2-df2af1bbdc33",
   "metadata": {},
   "outputs": [],
   "source": [
    "# Find Jupyter notebook directory:\n",
    "# import os\n",
    "# os. getcwd()"
   ]
  },
  {
   "cell_type": "code",
   "execution_count": null,
   "id": "985d85f3-40fc-4b37-a91e-1071fd6513c2",
   "metadata": {},
   "outputs": [],
   "source": []
  }
 ],
 "metadata": {
  "kernelspec": {
   "display_name": "Python 3 (ipykernel)",
   "language": "python",
   "name": "python3"
  },
  "language_info": {
   "codemirror_mode": {
    "name": "ipython",
    "version": 3
   },
   "file_extension": ".py",
   "mimetype": "text/x-python",
   "name": "python",
   "nbconvert_exporter": "python",
   "pygments_lexer": "ipython3",
   "version": "3.11.0"
  }
 },
 "nbformat": 4,
 "nbformat_minor": 5
}
